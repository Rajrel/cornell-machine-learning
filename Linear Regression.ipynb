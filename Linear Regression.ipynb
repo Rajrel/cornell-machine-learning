{
 "cells": [
  {
   "cell_type": "markdown",
   "metadata": {},
   "source": [
    "<h2>About this Demo</h2>\n",
    "<p>In this demo, you will see how the closed form solution is used to find the optimal solution for linear regression.</p>\n",
    "\n",
    "<h2>Getting Started</h2>\n",
    "<h3>Python Initialization</h3> \n",
    "\n",
    "<p>Please run the following code to initialize your Python kernel. You should be running a version of Python 3.x.</p>"
   ]
  },
  {
   "cell_type": "code",
   "execution_count": 1,
   "metadata": {
    "colab": {},
    "colab_type": "code",
    "id": "dTl9qteEt-oT"
   },
   "outputs": [
    {
     "name": "stdout",
     "output_type": "stream",
     "text": [
      "You're running python 3.6.8\n"
     ]
    }
   ],
   "source": [
    "import sys\n",
    "import numpy as np\n",
    "import matplotlib.pyplot as plt\n",
    "%matplotlib inline \n",
    "\n",
    "print('You\\'re running python %s' % sys.version.split(' ')[0])"
   ]
  },
  {
   "cell_type": "markdown",
   "metadata": {},
   "source": [
    "## Generate Data\n",
    "First, let's generate some data. We will sample $x$ randomly between $0$ and $1$, and let $y$ be sampled as: $y = 3x + 4 + \\epsilon$, where $\\epsilon \\sim N(0, 0.01)$ is noise sampled from a Gaussian random variable of mean $0$ and standard deviation $0.01$."
   ]
  },
  {
   "cell_type": "code",
   "execution_count": 2,
   "metadata": {
    "colab": {},
    "colab_type": "code",
    "id": "58m3x8wgt-oX"
   },
   "outputs": [],
   "source": [
    "N = 40\n",
    "X = np.random.rand(N, 1) # Sample N points randomly along X-axis\n",
    "X = np.hstack((X, np.ones((N, 1))))  # Add a constant dimension\n",
    "w = np.array([3, 4]) # defining a linear function \n",
    "y = X @ w + (np.random.randn(N) * 0.1) # defining labels"
   ]
  },
  {
   "cell_type": "markdown",
   "metadata": {},
   "source": [
    "## Visualize Data\n",
    "Now, run the code below to visualize the data, which will roughly lie on a line."
   ]
  },
  {
   "cell_type": "code",
   "execution_count": 3,
   "metadata": {},
   "outputs": [
    {
     "data": {
      "image/png": "[encoded data removed]",
      "text/plain": [
       "<Figure size 432x288 with 1 Axes>"
      ]
     },
     "metadata": {
      "needs_background": "light"
     },
     "output_type": "display_data"
    }
   ],
   "source": [
    "plt.plot(X[:, 0], y, '.')\n",
    "plt.show()"
   ]
  },
  {
   "cell_type": "markdown",
   "metadata": {},
   "source": [
    "## Learning Using Closed Form Solution\n",
    "\n",
    "Recall the closed form solution when $\\mathbf{X}$ is a $n \\times d$ matrix with each data point as a row:\n",
    "\n",
    "$$\\mathbf{w} = (\\mathbf{X}^T\\mathbf{X})^{-1}\\mathbf{X}^T\\mathbf{y}$$"
   ]
  },
  {
   "cell_type": "code",
   "execution_count": 4,
   "metadata": {},
   "outputs": [],
   "source": [
    "w_closed = np.linalg.inv(X.T @ X) @ (X.T @ y)"
   ]
  },
  {
   "cell_type": "markdown",
   "metadata": {},
   "source": [
    "**Quick quiz:**\n",
    "\n",
    "There are two ways for calculating the closed form solution. Which one is more time-efficient?\n",
    "1. `(np.linalg.inv(X.T @ X) @ X.T) @ y`\n",
    "2. `np.linalg.inv(X.T @ X) @ (X.T @ y)`\n",
    "\n",
    "You will find the answer later in the notebook, but do take a break and think how the order of operations affects efficiency!"
   ]
  },
  {
   "cell_type": "markdown",
   "metadata": {},
   "source": [
    "## Visualize Closed Form Solution\n",
    "You can visualize the closed form solution with a line that is drawn over your data, using this code:"
   ]
  },
  {
   "cell_type": "code",
   "execution_count": 5,
   "metadata": {},
   "outputs": [],
   "source": [
    "def plot_linear(X, y, w):\n",
    "    plt.plot(X[:, 0], y, '.') # plot the points\n",
    "    z = np.array([[0,1],      # define two points with X-value 0 and 1 (and constant dimension)\n",
    "                  [1,1]])\n",
    "    plt.plot(z[:, 0], z @ w, 'r') # draw line w_closed through these two points\n",
    "    plt.show()"
   ]
  },
  {
   "cell_type": "code",
   "execution_count": null,
   "metadata": {},
   "outputs": [],
   "source": [
    "plot_linear(X, y, w_closed)"
   ]
  },
  {
   "cell_type": "markdown",
   "metadata": {},
   "source": [
    "<h2>Pro-Tip: NumPy Linear Matrix Solver</h2>\n",
    "\n",
    "<p>Computing matrix inverses can be numerically unstable and slow. Instead, one can use the <a href=\"https://docs.scipy.org/doc/numpy/reference/generated/numpy.linalg.solve.html\">Numpy linear matrix solver</a> to solve the following linear system:\n",
    "$$(\\mathbf{X}^T\\mathbf{X})\\mathbf{w} = \\mathbf{X}^T\\mathbf{y}$$\n",
    "The solution is the same, but it is typically faster and more stable in case $(\\mathbf{X}^T\\mathbf{X})$ is not invertible.</p>"
   ]
  },
  {
   "cell_type": "code",
   "execution_count": 6,
   "metadata": {},
   "outputs": [],
   "source": [
    "w_closed_np = np.linalg.solve(X.T @ X, X.T @ y)"
   ]
  },
  {
   "cell_type": "code",
   "execution_count": 7,
   "metadata": {
    "scrolled": true
   },
   "outputs": [
    {
     "data": {
      "image/png": "[encoded data removed]",
      "text/plain": [
       "<Figure size 432x288 with 1 Axes>"
      ]
     },
     "metadata": {
      "needs_background": "light"
     },
     "output_type": "display_data"
    }
   ],
   "source": [
    "plot_linear(X, y, w_closed_np)"
   ]
  },
  {
   "cell_type": "markdown",
   "metadata": {},
   "source": [
    "## Scikit-learn approach\n",
    "\n",
    "[Scikit-learn](https://scikit-learn.org/stable/index.html) (or `sklearn`) is a Python library with implementations for numerous machine learning and data science models. Scikit-learn provides a standard step-by-step training procedure across different machine learning models, simplifying model training and prediction. The typical process for selecting, training, and predicting with a model of your choice is as follows:\n",
    "\n",
    "\n",
    "1. Define the classifier `clf` using a call to the model class.\n",
    "2. Train `clf` using `clf.fit` on training data.\n",
    "3. Predict on test data using `clf.predict`, getting predictions as output.\n",
    "\n",
    "\n",
    "Scikit-learn provides a [linear regression solver](https://scikit-learn.org/stable/modules/generated/sklearn.linear_model.LinearRegression.html), which is demonstrated below. "
   ]
  },
  {
   "cell_type": "code",
   "execution_count": 8,
   "metadata": {},
   "outputs": [],
   "source": [
    "from sklearn.linear_model import LinearRegression\n",
    "\n",
    "# Set parameter to False since intercept is already included in X (constant dim)\n",
    "clf = LinearRegression(fit_intercept=False)\n",
    "clf.fit(X, y)\n",
    "w_sklearn = clf.coef_"
   ]
  },
  {
   "cell_type": "code",
   "execution_count": 9,
   "metadata": {},
   "outputs": [
    {
     "data": {
      "image/png": "[encoded data removed]",
      "text/plain": [
       "<Figure size 432x288 with 1 Axes>"
      ]
     },
     "metadata": {
      "needs_background": "light"
     },
     "output_type": "display_data"
    }
   ],
   "source": [
    "plot_linear(X, y, w_sklearn)"
   ]
  },
  {
   "cell_type": "markdown",
   "metadata": {},
   "source": [
    "## Answer to quiz:\n",
    "\n",
    "(2. `np.linalg.inv(X.T @ X) @ (X.T @ y)`) is more efficient than (1. `(np.linalg.inv(X.T @ X) @ X.T) @ y`). This is because (2.) performs 1 matrix-matrix multiplication ($d^2n$ calculations), 1 inverse solve ($d^3$ calculations), and 2 matrix-vector multiplications ($2dn$ calculations); whereas (1.) performs 2 matrix-matrix multiplications ($2d^2n$ calculations), 1 inverse solve ($d^3$ calculations), and 1 matrix-vector multiplications ($dn$ calculations). \n",
    "\n",
    "Add those up and you end up comparing (2.) $d^2n + d^3 + 2dn$ and (1.) $2d^2n + d^3 + dn$ calculations -- the former is smaller since $dn \\le d^2n$."
   ]
  }
 ],
 "metadata": {
  "colab": {
   "name": "Linear Regression.ipynb",
   "provenance": [],
   "version": "0.3.2"
  },
  "kernelspec": {
   "display_name": "Python 3",
   "language": "python",
   "name": "python3"
  },
  "language_info": {
   "codemirror_mode": {
    "name": "ipython",
    "version": 3
   },
   "file_extension": ".py",
   "mimetype": "text/x-python",
   "name": "python",
   "nbconvert_exporter": "python",
   "pygments_lexer": "ipython3",
   "version": "3.6.8"
  }
 },
 "nbformat": 4,
 "nbformat_minor": 4
}
